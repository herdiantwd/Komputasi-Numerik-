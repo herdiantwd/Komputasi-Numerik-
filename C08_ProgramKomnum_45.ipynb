{
 "cells": [
  {
   "cell_type": "code",
   "execution_count": null,
   "metadata": {
    "id": "FawzffcOotPv"
   },
   "outputs": [],
   "source": []
  },
  {
   "cell_type": "code",
   "execution_count": null,
   "metadata": {
    "colab": {
     "base_uri": "https://localhost:8080/"
    },
    "executionInfo": {
     "elapsed": 12132,
     "status": "ok",
     "timestamp": 1749383801917,
     "user": {
      "displayName": "Herdian Tri Wardhana",
      "userId": "17053001027181704367"
     },
     "user_tz": -420
    },
    "id": "Btc_CmO1macI",
    "outputId": "0d3cdbd5-3960-4f4a-b77f-2b42b174dcda"
   },
   "outputs": [
    {
     "name": "stdout",
     "output_type": "stream",
     "text": [
      "Enter the function f(x) in terms of x: (4/5)*x**5-4*x**3\n",
      "Enter x0: 2\n",
      "Enter x3: 11\n",
      "Enter step h: 3\n",
      "\n",
      "f(x, y) = 4*x**4 - 12*x**2\n",
      "\n",
      "Step 1:\n",
      "x0 = 2.00\ty0 = -6.40\n",
      "\n",
      "x0 = 5.00\ty1 = 3317.60\n",
      "\n",
      "\t\tEt = 65.88%\n",
      "Step 2:\n",
      "x0 = 8.00\ty1 = 30041.60\n",
      "\n",
      "\t\tEt = 24.31%\n",
      "Step 3:\n",
      "x0 = 11.00\ty1 = 139133.60\n",
      "\n",
      "\t\tEt = 12.64%\n"
     ]
    }
   ],
   "source": [
    "import numpy\n",
    "import sympy\n",
    "\n",
    "# integralnya -> f(x) = (4/5)*x**5-4*x**3 sebagai input\n",
    "# x0 = 2\n",
    "# x3 = 11\n",
    "# h = 3\n",
    "\n",
    "def errortrue(f_value, y_values):\n",
    "    return (abs((f_value-y_values)/f_value)*100)\n",
    "\n",
    "def heun_method (f, x0, x3, h):\n",
    "    x = sympy.symbols('x')\n",
    "    f_derivative = sympy.diff(f, x)\n",
    "    print(f\"\\nf(x, y) = {f_derivative}\\n\")\n",
    "    xn = x0\n",
    "    step = 3\n",
    "\n",
    "    for i in range(step):\n",
    "        f_value = f.subs(x, xn)\n",
    "        f_valueup = f.subs(x, xn+h)\n",
    "        f_derivative_value = f_derivative.subs(x, xn)\n",
    "        f_derivative_valueup = f_derivative.subs(x, xn+h)\n",
    "        if(i == 0 ):\n",
    "            print(f\"Step 1:\\nx0 = {xn:.2f}\\ty0 = {f_value:.2f}\\n\")\n",
    "            #print(f\"{f_derivative_value}\")\n",
    "            #print(f\"{f_derivative_valueup}\")\n",
    "            #print(f\"{f_value}\")\n",
    "\n",
    "            y_values = f_value + (((f_derivative_value+f_derivative_valueup)/2)*h)\n",
    "            xn = xn + h\n",
    "            print(f\"x0 = {xn:.2f}\\ty1 = {y_values:.2f}\\n\")\n",
    "            error = round(errortrue(f_valueup, y_values), 2)\n",
    "            print(f\"\\t\\tEt = {error:.2f}%\")\n",
    "            continue\n",
    "        y_values = y_values + (((f_derivative_value+f_derivative_valueup)/2)*h)\n",
    "        xn = xn + h\n",
    "        print(f\"Step {i+1}:\\nx0 = {xn:.2f}\\ty1 = {y_values:.2f}\\n\")\n",
    "        #print(f\"{f_value}\")\n",
    "        error = round(errortrue(f_valueup, y_values), 2)\n",
    "        print(f\"\\t\\tEt = {error:.2f}%\")\n",
    "\n",
    "\n",
    "\n",
    "def main():\n",
    "    x = sympy.symbols('x')\n",
    "    f = input(\"Enter the function f(x) in terms of x: \")\n",
    "    f = sympy.sympify(f)\n",
    "    x0 = float(input(\"Enter x0: \"))\n",
    "    x3 = float(input(\"Enter x3: \"))\n",
    "    h = float(input(\"Enter step h: \"))\n",
    "    heun_method(f, x0, x3, h)\n",
    "\n",
    "if __name__ == \"__main__\":\n",
    "    main()"
   ]
  }
 ],
 "metadata": {
  "colab": {
   "authorship_tag": "ABX9TyP8fy3R0ijrRXofaIfNdUlP",
   "provenance": []
  },
  "kernelspec": {
   "display_name": "Python 3",
   "name": "python3"
  },
  "language_info": {
   "name": "python"
  }
 },
 "nbformat": 4,
 "nbformat_minor": 0
}
